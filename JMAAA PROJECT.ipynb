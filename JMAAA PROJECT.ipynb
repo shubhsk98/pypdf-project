{
 "cells": [
  {
   "cell_type": "markdown",
   "id": "ec4791e6",
   "metadata": {},
   "source": [
    "### THE GOAL OF THIS PROJECT :  TO EXTRACT THE DATA FROM 'Insurance Policy Documents.PDF file' USING  THE BEST TECHNOLOGY & TOOLS. "
   ]
  },
  {
   "cell_type": "raw",
   "id": "4c740034",
   "metadata": {},
   "source": [
    "# importing some libraries which is help us in this project"
   ]
  },
  {
   "cell_type": "code",
   "execution_count": 1,
   "id": "939d2117",
   "metadata": {},
   "outputs": [],
   "source": [
    "import PyPDF2\n",
    "import pandas as pd   \n",
    "import numpy as np\n",
    "import re"
   ]
  },
  {
   "cell_type": "code",
   "execution_count": 2,
   "id": "1ec80ebb",
   "metadata": {},
   "outputs": [],
   "source": [
    "# get directory \n",
    "import os\n",
    "os.chdir(r'C:\\Users\\Lenovo\\Downloads\\CVV')"
   ]
  },
  {
   "cell_type": "code",
   "execution_count": 3,
   "id": "cbded819",
   "metadata": {},
   "outputs": [],
   "source": [
    "Policy_number = []\n",
    "Coustomer_id = []\n",
    "receipt_Number =[]\n",
    "\n",
    "for file_name in os.listdir('all_format_pdf'):\n",
    "    load_pdf = open(r'C:\\Users\\Lenovo\\Downloads\\CVV\\all_format_pdf\\\\' + file_name, 'rb')\n",
    "    read_pdf = PyPDF2.PdfFileReader(load_pdf)\n",
    "    page_count = read_pdf.getNumPages()\n",
    "    first_page = read_pdf.getPage(0)  # first page\n",
    "    page_content = first_page.extractText()\n",
    "    page_content = page_content.replace('\\n', '')\n",
    "\n",
    "    policy_number = re.search(r'(?:\\+?\\d{2}[ -]?)?\\d{20}', page_content).group()\n",
    "    Policy_number.append(policy_number)\n",
    "    \n",
    "    coustomer_id = re.search(r'(PO\\d[0-9]*)',page_content).group()\n",
    "    Coustomer_id.append(coustomer_id)\n",
    "    \n",
    "    Receipt_Number = re.search(r'(100000\\d[0-9]*)',page_content).group()\n",
    "    receipt_Number.append(Receipt_Number)"
   ]
  },
  {
   "cell_type": "code",
   "execution_count": 4,
   "id": "23fc43b9",
   "metadata": {},
   "outputs": [],
   "source": [
    "net_premium = []\n",
    "for file_name in os.listdir('all_format_pdf'):\n",
    "    load_pdf = open(r'C:\\Users\\Lenovo\\Downloads\\CVV\\all_format_pdf\\\\' + file_name, 'rb')\n",
    "    read_pdf = PyPDF2.PdfFileReader(load_pdf)\n",
    "    page_count = read_pdf.getNumPages()\n",
    "\n",
    "    first_page = read_pdf.getPage(1)\n",
    "    page_content = first_page.extractText()\n",
    "    page_content = page_content.replace('\\n', '')\n",
    "    \n",
    "    Net_premium = re.search(r'(Rs\\d[0-9]*)',page_content).group()\n",
    "    net_premium.append(Net_premium)"
   ]
  },
  {
   "cell_type": "code",
   "execution_count": 5,
   "id": "ad065ec8",
   "metadata": {},
   "outputs": [],
   "source": [
    "# now we create the dataframe \n",
    "df = pd.DataFrame()"
   ]
  },
  {
   "cell_type": "code",
   "execution_count": 7,
   "id": "3b449348",
   "metadata": {},
   "outputs": [],
   "source": [
    "df['Policy_number'] = Policy_number\n",
    "df['Coustomer_id'] = Coustomer_id\n",
    "df['receipt_Number'] = receipt_Number\n",
    "df['net_premium'] = net_premium"
   ]
  },
  {
   "cell_type": "code",
   "execution_count": 8,
   "id": "80445d8c",
   "metadata": {},
   "outputs": [
    {
     "data": {
      "text/plain": [
       "Index(['Policy_number', 'Coustomer_id', 'receipt_Number', 'net_premium'], dtype='object')"
      ]
     },
     "execution_count": 8,
     "metadata": {},
     "output_type": "execute_result"
    }
   ],
   "source": [
    "df.columns"
   ]
  },
  {
   "cell_type": "code",
   "execution_count": 9,
   "id": "f26aff3a",
   "metadata": {},
   "outputs": [
    {
     "data": {
      "text/html": [
       "<div>\n",
       "<style scoped>\n",
       "    .dataframe tbody tr th:only-of-type {\n",
       "        vertical-align: middle;\n",
       "    }\n",
       "\n",
       "    .dataframe tbody tr th {\n",
       "        vertical-align: top;\n",
       "    }\n",
       "\n",
       "    .dataframe thead th {\n",
       "        text-align: right;\n",
       "    }\n",
       "</style>\n",
       "<table border=\"1\" class=\"dataframe\">\n",
       "  <thead>\n",
       "    <tr style=\"text-align: right;\">\n",
       "      <th></th>\n",
       "      <th>Policy_number</th>\n",
       "      <th>Coustomer_id</th>\n",
       "      <th>receipt_Number</th>\n",
       "      <th>net_premium</th>\n",
       "    </tr>\n",
       "  </thead>\n",
       "  <tbody>\n",
       "    <tr>\n",
       "      <th>0</th>\n",
       "      <td>46080031210100001313</td>\n",
       "      <td>PO60386723</td>\n",
       "      <td>10000001307</td>\n",
       "      <td>Rs3243</td>\n",
       "    </tr>\n",
       "    <tr>\n",
       "      <th>1</th>\n",
       "      <td>46080031210100001305</td>\n",
       "      <td>PO66438336</td>\n",
       "      <td>10000089210500631643</td>\n",
       "      <td>Rs3644</td>\n",
       "    </tr>\n",
       "    <tr>\n",
       "      <th>2</th>\n",
       "      <td>46080031210200001070</td>\n",
       "      <td>PO26760496</td>\n",
       "      <td>10000089210500420176</td>\n",
       "      <td>Rs100</td>\n",
       "    </tr>\n",
       "    <tr>\n",
       "      <th>3</th>\n",
       "      <td>46080031210100001060</td>\n",
       "      <td>PO45354935</td>\n",
       "      <td>10000089210500401827</td>\n",
       "      <td>Rs2360</td>\n",
       "    </tr>\n",
       "    <tr>\n",
       "      <th>4</th>\n",
       "      <td>46080331210100001189</td>\n",
       "      <td>PO91124721</td>\n",
       "      <td>10000089210800592356</td>\n",
       "      <td>Rs1411</td>\n",
       "    </tr>\n",
       "  </tbody>\n",
       "</table>\n",
       "</div>"
      ],
      "text/plain": [
       "          Policy_number Coustomer_id        receipt_Number net_premium\n",
       "0  46080031210100001313   PO60386723           10000001307      Rs3243\n",
       "1  46080031210100001305   PO66438336  10000089210500631643      Rs3644\n",
       "2  46080031210200001070   PO26760496  10000089210500420176       Rs100\n",
       "3  46080031210100001060   PO45354935  10000089210500401827      Rs2360\n",
       "4  46080331210100001189   PO91124721  10000089210800592356      Rs1411"
      ]
     },
     "execution_count": 9,
     "metadata": {},
     "output_type": "execute_result"
    }
   ],
   "source": [
    "df"
   ]
  },
  {
   "cell_type": "code",
   "execution_count": 10,
   "id": "1393b00f",
   "metadata": {},
   "outputs": [],
   "source": [
    "# now we save in excel file\n",
    "df.to_excel(r\"C:\\Users\\Lenovo\\JMAAA_PROJECT.xlsx\", index = True)"
   ]
  },
  {
   "cell_type": "code",
   "execution_count": 28,
   "id": "f40f7347",
   "metadata": {},
   "outputs": [
    {
     "data": {
      "text/html": [
       "<div>\n",
       "<style scoped>\n",
       "    .dataframe tbody tr th:only-of-type {\n",
       "        vertical-align: middle;\n",
       "    }\n",
       "\n",
       "    .dataframe tbody tr th {\n",
       "        vertical-align: top;\n",
       "    }\n",
       "\n",
       "    .dataframe thead th {\n",
       "        text-align: right;\n",
       "    }\n",
       "</style>\n",
       "<table border=\"1\" class=\"dataframe\">\n",
       "  <thead>\n",
       "    <tr style=\"text-align: right;\">\n",
       "      <th></th>\n",
       "      <th>Policy_number</th>\n",
       "      <th>Coustomer_id</th>\n",
       "      <th>receipt_Number</th>\n",
       "      <th>net_premium</th>\n",
       "    </tr>\n",
       "  </thead>\n",
       "  <tbody>\n",
       "    <tr>\n",
       "      <th>0</th>\n",
       "      <td>46080031210100001313</td>\n",
       "      <td>PO60386723</td>\n",
       "      <td>10000001307</td>\n",
       "      <td>Rs3243</td>\n",
       "    </tr>\n",
       "    <tr>\n",
       "      <th>1</th>\n",
       "      <td>46080031210100001305</td>\n",
       "      <td>PO66438336</td>\n",
       "      <td>10000089210500631643</td>\n",
       "      <td>Rs3644</td>\n",
       "    </tr>\n",
       "    <tr>\n",
       "      <th>2</th>\n",
       "      <td>46080031210200001070</td>\n",
       "      <td>PO26760496</td>\n",
       "      <td>10000089210500420176</td>\n",
       "      <td>Rs100</td>\n",
       "    </tr>\n",
       "    <tr>\n",
       "      <th>3</th>\n",
       "      <td>46080031210100001060</td>\n",
       "      <td>PO45354935</td>\n",
       "      <td>10000089210500401827</td>\n",
       "      <td>Rs2360</td>\n",
       "    </tr>\n",
       "    <tr>\n",
       "      <th>4</th>\n",
       "      <td>46080331210100001189</td>\n",
       "      <td>PO91124721</td>\n",
       "      <td>10000089210800592356</td>\n",
       "      <td>Rs1411</td>\n",
       "    </tr>\n",
       "  </tbody>\n",
       "</table>\n",
       "</div>"
      ],
      "text/plain": [
       "          Policy_number Coustomer_id        receipt_Number net_premium\n",
       "0  46080031210100001313   PO60386723           10000001307      Rs3243\n",
       "1  46080031210100001305   PO66438336  10000089210500631643      Rs3644\n",
       "2  46080031210200001070   PO26760496  10000089210500420176       Rs100\n",
       "3  46080031210100001060   PO45354935  10000089210500401827      Rs2360\n",
       "4  46080331210100001189   PO91124721  10000089210800592356      Rs1411"
      ]
     },
     "execution_count": 28,
     "metadata": {},
     "output_type": "execute_result"
    }
   ],
   "source": [
    "df.head()"
   ]
  },
  {
   "cell_type": "code",
   "execution_count": null,
   "id": "06ea1136",
   "metadata": {},
   "outputs": [],
   "source": []
  }
 ],
 "metadata": {
  "kernelspec": {
   "display_name": "Python 3 (ipykernel)",
   "language": "python",
   "name": "python3"
  },
  "language_info": {
   "codemirror_mode": {
    "name": "ipython",
    "version": 3
   },
   "file_extension": ".py",
   "mimetype": "text/x-python",
   "name": "python",
   "nbconvert_exporter": "python",
   "pygments_lexer": "ipython3",
   "version": "3.9.7"
  }
 },
 "nbformat": 4,
 "nbformat_minor": 5
}
